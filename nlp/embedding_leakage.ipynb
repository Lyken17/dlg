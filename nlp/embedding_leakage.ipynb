{
 "cells": [
  {
   "cell_type": "code",
   "execution_count": 1,
   "metadata": {},
   "outputs": [],
   "source": [
    "from transformers import BertTokenizer\n",
    "import torch\n",
    "from transformers.models.distilbert.modeling_distilbert import Transformer\n",
    "from transformers import AutoModelWithLMHead, AutoTokenizer\n",
    "\n",
    "\n",
    "import torch.nn.functional as F\n",
    "from torch.autograd import grad"
   ]
  },
  {
   "cell_type": "code",
   "execution_count": 144,
   "metadata": {
    "scrolled": true
   },
   "outputs": [
    {
     "name": "stderr",
     "output_type": "stream",
     "text": [
      "/home/ubuntu/anaconda3/lib/python3.8/site-packages/transformers/models/auto/modeling_auto.py:806: FutureWarning: The class `AutoModelWithLMHead` is deprecated and will be removed in a future version. Please use `AutoModelForCausalLM` for causal language models, `AutoModelForMaskedLM` for masked language models and `AutoModelForSeq2SeqLM` for encoder-decoder models.\n",
      "  warnings.warn(\n"
     ]
    }
   ],
   "source": [
    "tokenizer = AutoTokenizer.from_pretrained(\"distilbert-base-cased\")\n",
    "model = AutoModelWithLMHead.from_pretrained(\"distilbert-base-cased\")\n",
    "\n",
    "bert = model.distilbert\n",
    "\n",
    "device = \"cpu\"\n",
    "if torch.cuda.is_available():\n",
    "    device = \"cuda\"\n",
    "model = model.to(device)\n",
    "trans = bert.transformer\n",
    "\n",
    "optim = torch.optim.SGD(bert.parameters(), lr=0.1)"
   ]
  },
  {
   "cell_type": "code",
   "execution_count": 149,
   "metadata": {},
   "outputs": [],
   "source": [
    "# You may replace it with your own sentences here.\n",
    "sequence = f\"The Conference and Workshop on Neural Information Processing Systems is a machine learning and computational neuroscience conference held every December.\"\n",
    "input = tokenizer.encode(sequence, return_tensors=\"pt\")\n",
    "\n",
    "input = input.to(device)\n",
    "input_shape = input.size()\n",
    "inputs_embeds = bert.embeddings(input)\n",
    "attention_mask = torch.ones(input_shape, device=device)\n",
    "head_mask = None\n",
    "head_mask = bert.get_head_mask(head_mask, bert.config.num_hidden_layers)\n",
    "\n",
    "output_attentions = bert.config.output_attentions\n",
    "output_hidden_states = (\n",
    "    bert.config.output_hidden_states\n",
    ")\n",
    "return_dict =  bert.config.use_return_dict\n",
    "\n",
    "optim.zero_grad()\n",
    "dlbrt_output = bert.transformer(\n",
    "    x=inputs_embeds,\n",
    "    attn_mask=attention_mask,\n",
    "    head_mask=head_mask,\n",
    "    output_attentions=output_attentions,\n",
    "    output_hidden_states=output_hidden_states,\n",
    "    return_dict=return_dict,\n",
    ")\n",
    "\n",
    "hidden_states = dlbrt_output[0] \n",
    "hidden_states.sum().backward() # can be replaced by any other loss functions"
   ]
  },
  {
   "cell_type": "code",
   "execution_count": 155,
   "metadata": {},
   "outputs": [],
   "source": [
    "leaked_seq_length = bert.embeddings.position_embeddings.weight.grad.var(dim=-1).nonzero().max()\n",
    "leaked_token_ids = bert.embeddings.word_embeddings.weight.grad.var(dim=-1).nonzero().view(-1)\n",
    "leaked_words = tokenizer.decode(leaked_token_ids) # The order is not preserved."
   ]
  },
  {
   "cell_type": "code",
   "execution_count": 157,
   "metadata": {
    "scrolled": false
   },
   "outputs": [
    {
     "name": "stdout",
     "output_type": "stream",
     "text": [
      "All words have been leaked.\n",
      "--------------------------------------------------------------------------------\n",
      "Leaked sentence length: 28\n",
      "Leaked words: [CLS]|[SEP]|.|N|a|and|The|is|on|##ing|held|##al|December|every|Conference|machine|conference|learning|Information|Systems|##eur|##uro|Workshop|Process|computational|##science|ne\n",
      "--------------------------------------------------------------------------------\n",
      "Original sentence length: 28\n",
      "Original sentence: [CLS]|The|Conference|and|Workshop|on|N|##eur|##al|Information|Process|##ing|Systems|is|a|machine|learning|and|computational|ne|##uro|##science|conference|held|every|December|.|[SEP]\n"
     ]
    }
   ],
   "source": [
    "s1 = set(leaked_token_ids.tolist())\n",
    "s2 = set(tokenizer.encode(sequence))\n",
    "diff = s1 - s2\n",
    "if len(diff) == 0:\n",
    "    print(\"All words have been leaked.\")\n",
    "print(\"--\" * 40)\n",
    "\n",
    "leaked_words = []\n",
    "for i in range(leaked_token_ids.size(0)):\n",
    "    leaked_word = tokenizer.decode(leaked_token_ids[i])\n",
    "    leaked_words.append(leaked_word)\n",
    "print(\"Leaked sentence length:\", leaked_seq_length.item() + 1)\n",
    "print(\"Leaked words:\", \"|\".join(leaked_words))\n",
    "print(\"--\" * 40)\n",
    "\n",
    "origin_tokens = tokenizer.encode(sequence, return_tensors=\"pt\").view(-1)\n",
    "original_words = []\n",
    "for i in range(origin_tokens.size(0)):\n",
    "    original_word = tokenizer.decode(origin_tokens[i])\n",
    "    original_words.append(original_word)\n",
    "print(\"Original sentence length:\", len(original_words))\n",
    "print(\"Original sentence:\", \"|\".join(original_words))"
   ]
  },
  {
   "cell_type": "code",
   "execution_count": null,
   "metadata": {},
   "outputs": [],
   "source": []
  },
  {
   "cell_type": "code",
   "execution_count": null,
   "metadata": {},
   "outputs": [],
   "source": []
  }
 ],
 "metadata": {
  "kernelspec": {
   "display_name": "Python 3",
   "language": "python",
   "name": "python3"
  },
  "language_info": {
   "codemirror_mode": {
    "name": "ipython",
    "version": 3
   },
   "file_extension": ".py",
   "mimetype": "text/x-python",
   "name": "python",
   "nbconvert_exporter": "python",
   "pygments_lexer": "ipython3",
   "version": "3.8.3"
  }
 },
 "nbformat": 4,
 "nbformat_minor": 4
}
